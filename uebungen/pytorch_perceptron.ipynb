{
 "cells": [
  {
   "cell_type": "code",
   "execution_count": 1,
   "id": "initial_id",
   "metadata": {
    "collapsed": true,
    "ExecuteTime": {
     "end_time": "2023-10-27T22:10:34.154421Z",
     "start_time": "2023-10-27T22:10:31.939677Z"
    }
   },
   "outputs": [],
   "source": [
    "import numpy as np\n",
    "import torch"
   ]
  },
  {
   "cell_type": "code",
   "execution_count": 17,
   "outputs": [],
   "source": [
    "random_tensor = torch.rand(5, 3)"
   ],
   "metadata": {
    "collapsed": false,
    "ExecuteTime": {
     "end_time": "2023-10-27T22:12:25.019514Z",
     "start_time": "2023-10-27T22:12:25.016950Z"
    }
   },
   "id": "2fd4b829abb1b3d2"
  },
  {
   "cell_type": "code",
   "execution_count": 18,
   "outputs": [
    {
     "name": "stdout",
     "output_type": "stream",
     "text": [
      "tensor([[0.3588, 0.1081, 0.4375],\n",
      "        [0.9304, 0.9566, 0.6098],\n",
      "        [0.4747, 0.9357, 0.7921],\n",
      "        [0.8392, 0.6874, 0.5570],\n",
      "        [0.4527, 0.9105, 0.2091]])\n"
     ]
    }
   ],
   "source": [
    "print(random_tensor)"
   ],
   "metadata": {
    "collapsed": false,
    "ExecuteTime": {
     "end_time": "2023-10-27T22:12:25.432016Z",
     "start_time": "2023-10-27T22:12:25.424677Z"
    }
   },
   "id": "84b587e3e1b43e38"
  },
  {
   "cell_type": "code",
   "execution_count": null,
   "outputs": [],
   "source": [],
   "metadata": {
    "collapsed": false
   },
   "id": "907996171848bf17"
  }
 ],
 "metadata": {
  "kernelspec": {
   "display_name": "Python 3",
   "language": "python",
   "name": "python3"
  },
  "language_info": {
   "codemirror_mode": {
    "name": "ipython",
    "version": 2
   },
   "file_extension": ".py",
   "mimetype": "text/x-python",
   "name": "python",
   "nbconvert_exporter": "python",
   "pygments_lexer": "ipython2",
   "version": "2.7.6"
  }
 },
 "nbformat": 4,
 "nbformat_minor": 5
}
